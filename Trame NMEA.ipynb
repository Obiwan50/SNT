{
 "cells": [
  {
   "cell_type": "markdown",
   "metadata": {},
   "source": [
    "<h1>Créer des cartes avec Python</h1>\n"
   ]
  },
  {
   "cell_type": "markdown",
   "metadata": {},
   "source": [
    "Les programmes présentés utilisent deux modules python, à installer une fois. Pour cela il faut exécuter les instructions : !pip install geopy et !pip install folium. Il suffit donc de \"décommenter\" les deux lignes ci-dessous (enlever les #), et d'exécuter la cellule."
   ]
  },
  {
   "cell_type": "code",
   "execution_count": 1,
   "metadata": {},
   "outputs": [],
   "source": [
    "#!pip install geopy\n",
    "#!pip install folium"
   ]
  },
  {
   "cell_type": "markdown",
   "metadata": {},
   "source": [
    "<h1>Partie 1 : récupérer des coordonnées géographiques et une adresse à partir d'une trame GPGGA</h1>"
   ]
  },
  {
   "cell_type": "markdown",
   "metadata": {},
   "source": [
    "\n",
    "Les fonctions et démarches suivantes permettent d'obtenir la latitude et la longitude contenues dans une trame de type GPGGA (GPS). Le choix a été fait de procéder par étapes, et de visualiser les résultats "
   ]
  },
  {
   "cell_type": "code",
   "execution_count": 2,
   "metadata": {},
   "outputs": [],
   "source": [
    "trame =\"$GPGGA,095039.00,4902.7435,N,00126.5796,W,1,18,0.6,53.4,M,47.8,M,,*4A\""
   ]
  },
  {
   "cell_type": "code",
   "execution_count": 3,
   "metadata": {
    "collapsed": true
   },
   "outputs": [
    {
     "data": {
      "text/plain": [
       "['$GPGGA',\n",
       " '095039.00',\n",
       " '4902.7435',\n",
       " 'N',\n",
       " '00126.5796',\n",
       " 'W',\n",
       " '1',\n",
       " '18',\n",
       " '0.6',\n",
       " '53.4',\n",
       " 'M',\n",
       " '47.8',\n",
       " 'M',\n",
       " '',\n",
       " '*4A']"
      ]
     },
     "execution_count": 3,
     "metadata": {},
     "output_type": "execute_result"
    }
   ],
   "source": [
    "# on crée une liste en coupant la trame à chaque \n",
    "liste = trame.split(',')\n",
    "liste"
   ]
  },
  {
   "cell_type": "code",
   "execution_count": 4,
   "metadata": {},
   "outputs": [],
   "source": [
    "def latitude(listeGPGGA):\n",
    "    valeur = float(liste[2])#troisième terme de la liste, donc d'indice 2\n",
    "    degre = int(valeur/100)\n",
    "    minutes = valeur%100 #conserve les chiffres à partir des dizaines vers la droite\n",
    "    if liste[3]=='N':\n",
    "        return degre + minutes/60 #latitude Nord, donc positive\n",
    "    else : \n",
    "        return -degre - minutes/60 #latitude negative"
   ]
  },
  {
   "cell_type": "code",
   "execution_count": 5,
   "metadata": {},
   "outputs": [],
   "source": [
    "def longitude(listeGPGGA):\n",
    "    valeur = float(liste[4])#cinquième terme de la liste, donc d'indice 4\n",
    "    degre = int(valeur/100)\n",
    "    minutes = valeur%100 #conserve les chiffres à partir des dizaines vers la droite\n",
    "    if liste[5]=='E':\n",
    "        return degre + minutes/60 #longitude Est, donc positive\n",
    "    else : \n",
    "        return -degre - minutes/60 #longitude negative"
   ]
  },
  {
   "cell_type": "code",
   "execution_count": 7,
   "metadata": {
    "collapsed": true
   },
   "outputs": [
    {
     "data": {
      "text/plain": [
       "(49.04572499999999, -1.4429933333333334)"
      ]
     },
     "execution_count": 7,
     "metadata": {},
     "output_type": "execute_result"
    }
   ],
   "source": [
    "latitude = latitude(liste)\n",
    "longitude = longitude(liste)\n",
    "latitude, longitude"
   ]
  },
  {
   "cell_type": "markdown",
   "metadata": {},
   "source": [
    "Le module geopy permet notamment de déterminer l'adresse d'un lieu repéré par ses coordonnées."
   ]
  },
  {
   "cell_type": "code",
   "execution_count": 8,
   "metadata": {
    "collapsed": true
   },
   "outputs": [
    {
     "data": {
      "text/plain": [
       "'Lycée Charles-François Lebrun, Rue de la Halle au Blé, La Roquelle, Le Liban, Coutances, Manche, Normandie, France métropolitaine, 50200, France'"
      ]
     },
     "execution_count": 8,
     "metadata": {},
     "output_type": "execute_result"
    }
   ],
   "source": [
    "from geopy.geocoders import Nominatim\n",
    "geocoder = Nominatim(user_agent=\"SNT\") # placer une chaine de caractères quelconque\n",
    "localisation = geocoder.reverse([latitude,  longitude])\n",
    "localisation.address"
   ]
  },
  {
   "cell_type": "markdown",
   "metadata": {},
   "source": [
    "<h1>Partie 2 : Placer un marqueur sur une carte avec folium</h1>"
   ]
  },
  {
   "cell_type": "markdown",
   "metadata": {},
   "source": [
    "Ici, latitude et longitude ont des valeurs obtenues lors de la partie 1. On peut utiliser ce qui suit avec des coordonnées quelconques, en donnant des valeurs numériques aux variables latitude et longitude."
   ]
  },
  {
   "cell_type": "code",
   "execution_count": 9,
   "metadata": {
    "collapsed": true
   },
   "outputs": [
    {
     "data": {
      "text/html": [
       "<div style=\"width:100%;\"><div style=\"position:relative;width:100%;height:0;padding-bottom:60%;\"><iframe src=\"data:text/html;charset=utf-8;base64,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\" style=\"position:absolute;width:100%;height:100%;left:0;top:0;border:none !important;\" allowfullscreen webkitallowfullscreen mozallowfullscreen></iframe></div></div>"
      ],
      "text/plain": [
       "<folium.folium.Map at 0xc11e410>"
      ]
     },
     "execution_count": 9,
     "metadata": {},
     "output_type": "execute_result"
    }
   ],
   "source": [
    "import folium\n",
    "carte = folium.Map(location=[latitude, longitude], zoom_start=24)\n",
    "folium.Marker([latitude, longitude], \n",
    "              popup=\"?\",\n",
    "              #icon=folium.Icon(color='red')\n",
    "             ).add_to(carte)\n",
    "\n",
    "#si l'on souhaite créer un fichier  html contenant la carte :\n",
    "#carte.save('maCarte.html')\n",
    "#si l'on souhaite afficher la carte dans le document jupyter : \n",
    "carte"
   ]
  },
  {
   "cell_type": "markdown",
   "metadata": {},
   "source": [
    "<h1>Partie 3 : Tracer un itinéraire sur une carte avec folium</h1>\n"
   ]
  },
  {
   "cell_type": "code",
   "execution_count": 10,
   "metadata": {
    "collapsed": true
   },
   "outputs": [
    {
     "data": {
      "text/html": [
       "<div style=\"width:100%;\"><div style=\"position:relative;width:100%;height:0;padding-bottom:60%;\"><iframe src=\"data:text/html;charset=utf-8;base64,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\" style=\"position:absolute;width:100%;height:100%;left:0;top:0;border:none !important;\" allowfullscreen webkitallowfullscreen mozallowfullscreen></iframe></div></div>"
      ],
      "text/plain": [
       "<folium.folium.Map at 0xc3404b0>"
      ]
     },
     "execution_count": 10,
     "metadata": {},
     "output_type": "execute_result"
    }
   ],
   "source": [
    "carte2 = folium.Map(location=[45.5, 2.0], zoom_start=6)\n",
    "\n",
    "route = folium.PolyLine(\n",
    "    [[48.116178, -1.639469],#liste des coordonnées\n",
    "     [47.471627, -0.548873],\n",
    "     [47.393767, 0.682236],\n",
    "     [45.763663, 4.832724],\n",
    "     [45.218181, 5.807142]],\n",
    "    tooltip = \"itinéraire Rennes-Grenoble\" #message au survol\n",
    ").add_to(carte2)\n",
    "\n",
    "folium.Marker([48.116178, -1.639469], popup=\"Rennes\").add_to(carte2)\n",
    "\n",
    "folium.Marker([45.218181, 5.807142], popup=\"Grenoble\").add_to(carte2)\n",
    "\n",
    "#si l'on souhaite créer un fichier  html contenant la carte :\n",
    "#carte2.save('ma2eCarte.html')\n",
    "\n",
    "#si l'on souhaite afficher la carte dans le document jupyter : \n",
    "carte2"
   ]
  }
 ],
 "metadata": {
  "celltoolbar": "Format de la Cellule Texte Brut",
  "kernelspec": {
   "display_name": "Python 3",
   "language": "python",
   "name": "python3"
  },
  "language_info": {
   "codemirror_mode": {
    "name": "ipython",
    "version": 3
   },
   "file_extension": ".py",
   "mimetype": "text/x-python",
   "name": "python",
   "nbconvert_exporter": "python",
   "pygments_lexer": "ipython3",
   "version": "3.7.3"
  }
 },
 "nbformat": 4,
 "nbformat_minor": 2
}
