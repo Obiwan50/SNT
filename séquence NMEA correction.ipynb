{
 "cells": [
  {
   "cell_type": "code",
   "execution_count": null,
   "metadata": {},
   "outputs": [],
   "source": [
    "#!pip install geopy\n",
    "#!pip install folium"
   ]
  },
  {
   "cell_type": "markdown",
   "metadata": {},
   "source": [
    "<h1>Comment récupérer l'heure et les coordonnées géographiques d'une trame GPGGA</h1>"
   ]
  },
  {
   "cell_type": "code",
   "execution_count": null,
   "metadata": {},
   "outputs": [],
   "source": [
    "trame =\"$GPGGA,192657.000,3823.2324,N,00101.5525,W,1,18,0.6,53.4,M,47.8,M,,*4A\""
   ]
  },
  {
   "cell_type": "code",
   "execution_count": null,
   "metadata": {},
   "outputs": [],
   "source": [
    "champs=trame.split(\",\")\n",
    "print(champs[0])"
   ]
  },
  {
   "cell_type": "code",
   "execution_count": null,
   "metadata": {},
   "outputs": [],
   "source": [
    "champs=trame.split(\",\")\n",
    "print(champs[1])"
   ]
  },
  {
   "cell_type": "code",
   "execution_count": null,
   "metadata": {},
   "outputs": [],
   "source": [
    "champs=trame.split(\",\")\n",
    "if champs[0]=='$GPGGA':\n",
    " print(\"Il s'agit bien d'une trame de GPS !\" )\n",
    " print(champs[1])\n",
    " print(champs[2])\n",
    " print(champs[3])\n",
    " print(champs[4])\n",
    " print(champs[5])\n",
    "else :\n",
    " print(\" il ne s'agit pas d'une trame de GPS\" )"
   ]
  },
  {
   "cell_type": "code",
   "execution_count": null,
   "metadata": {},
   "outputs": [],
   "source": [
    "valeur = float(champs[1])#deuxième terme de la liste, donc d'indice 1\n",
    "h = int(valeur/10000)\n",
    "m = int((valeur-h*10000)/100)\n",
    "s = valeur-h*10000-m*100\n",
    "print (\"l'heure de la trame est :\",h,\"h\",m,\"min\",s,\"s\") \n"
   ]
  },
  {
   "cell_type": "code",
   "execution_count": null,
   "metadata": {},
   "outputs": [],
   "source": [
    "valeur = float(champs[2])#troisième terme de la liste, donc d'indice 2\n",
    "d = int(valeur/100)\n",
    "m = valeur-d*100 \n",
    "print (\"la latitude de la trame est :\",d,\"degrés\",m,\"minutes\",champs[3],) "
   ]
  },
  {
   "cell_type": "code",
   "execution_count": null,
   "metadata": {},
   "outputs": [],
   "source": [
    "valeur = float(champs[4])#cinquième terme de la liste, donc d'indice 4\n",
    "d = int(valeur/100)\n",
    "m = valeur-d*100 \n",
    "print (\"la longitude de la trame est :\",d,\"degrés\",m,\"minutes\",champs[5],) "
   ]
  },
  {
   "cell_type": "code",
   "execution_count": null,
   "metadata": {
    "scrolled": true
   },
   "outputs": [],
   "source": [
    "valeur = float(champs[9])#cinquième terme de la liste, donc d'indice 4\n",
    "print (\"l'altitude de la trame est :\",champs[9],champs[10],)"
   ]
  },
  {
   "cell_type": "code",
   "execution_count": null,
   "metadata": {},
   "outputs": [],
   "source": [
    "trame =\"$GPGGA,192657.000,3823.2324,N,00101.5525,W,1,18,0.6,53.4,M,47.8,M,,*4A\""
   ]
  },
  {
   "cell_type": "code",
   "execution_count": null,
   "metadata": {},
   "outputs": [],
   "source": [
    "liste = trame.split(',')\n",
    "liste\n",
    "def latitude(listeGPGGA):\n",
    "    valeur = float(liste[2])#troisième terme de la liste, donc d'indice 2\n",
    "    degre = int(valeur/100)\n",
    "    minutes = valeur%100 #conserve les chiffres à partir des dizaines vers la droite\n",
    "    if liste[3]=='N':\n",
    "        return degre + minutes/60 #latitude Nord, donc positive\n",
    "    else : \n",
    "        return -degre - minutes/60 #latitude negative\n",
    "    \n",
    "def longitude(listeGPGGA):\n",
    "    valeur = float(liste[4])#cinquième terme de la liste, donc d'indice 4\n",
    "    degre = int(valeur/100)\n",
    "    minutes = valeur%100 #conserve les chiffres à partir des dizaines vers la droite\n",
    "    if liste[5]=='E':\n",
    "        return degre + minutes/60 #longitude Est, donc positive\n",
    "    else : \n",
    "        return -degre - minutes/60 #longitude negative\n",
    "latitude = latitude(liste)\n",
    "longitude = longitude(liste)\n",
    "latitude, longitude\n"
   ]
  },
  {
   "cell_type": "code",
   "execution_count": null,
   "metadata": {},
   "outputs": [],
   "source": [
    "from geopy.geocoders import Nominatim\n",
    "geocoder = Nominatim(user_agent=\"SNT\") # placer une chaine de caractères quelconque\n",
    "localisation = geocoder.reverse([latitude,  longitude])\n",
    "localisation.address"
   ]
  },
  {
   "cell_type": "code",
   "execution_count": null,
   "metadata": {},
   "outputs": [],
   "source": [
    "import folium\n",
    "carte = folium.Map(location=[latitude, longitude], zoom_start=6) #valeur de zoom modifiable\n",
    "folium.Marker([latitude, longitude], \n",
    "              popup=\"?\", # ? à modifier avec le vrai nom\n",
    "              #icon=folium.Icon(color='red')\n",
    "             ).add_to(carte)\n",
    "\n",
    "#si l'on souhaite créer un fichier  html contenant la carte :\n",
    "carte.save('maCarte.html')\n",
    "#si l'on souhaite afficher la carte dans le document jupyter : \n",
    "carte"
   ]
  },
  {
   "cell_type": "markdown",
   "metadata": {},
   "source": [
    "<h1> Deuxième trame</h1>"
   ]
  },
  {
   "cell_type": "code",
   "execution_count": null,
   "metadata": {},
   "outputs": [],
   "source": [
    "trame =\"$GPGGA,101837.094,4846.1222,N,00207.6691,E,1,04,0.0,155.6,M,47.8,M,,*4A\""
   ]
  },
  {
   "cell_type": "code",
   "execution_count": null,
   "metadata": {},
   "outputs": [],
   "source": [
    "champs=trame.split(\",\")\n",
    "if champs[0]=='$GPGGA':\n",
    " print(\"Il s'agit bien d'une trame de GPS !\" )\n",
    " print(champs[1])\n",
    " print(champs[2])\n",
    " print(champs[3])\n",
    " print(champs[4])\n",
    " print(champs[5])\n",
    "else :\n",
    " print(\" il ne s'agit pas d'une trame de GPS\" )"
   ]
  },
  {
   "cell_type": "code",
   "execution_count": null,
   "metadata": {},
   "outputs": [],
   "source": [
    "valeur = float(champs[1])#deuxième terme de la liste, donc d'indice 1\n",
    "h = int(valeur/10000)\n",
    "m = int((valeur-h*10000)/100)\n",
    "s = valeur-h*10000-m*100\n",
    "print (\"l'heure de la trame est :\",h,\"h\",m,\"min\",s,\"s\") \n"
   ]
  },
  {
   "cell_type": "code",
   "execution_count": null,
   "metadata": {},
   "outputs": [],
   "source": [
    "valeur = float(champs[2])#troisième terme de la liste, donc d'indice 2\n",
    "d = int(valeur/100)\n",
    "m = valeur-d*100 \n",
    "print (\"la latitude de la trame est :\",d,\"degrés\",m,\"minutes\",champs[3],) "
   ]
  },
  {
   "cell_type": "code",
   "execution_count": null,
   "metadata": {},
   "outputs": [],
   "source": [
    "valeur = float(champs[4])#cinquième terme de la liste, donc d'indice 4\n",
    "d = int(valeur/100)\n",
    "m = valeur-d*100 \n",
    "print (\"la longitude de la trame est :\",d,\"degrés\",m,\"minutes\",champs[5],) "
   ]
  },
  {
   "cell_type": "code",
   "execution_count": null,
   "metadata": {},
   "outputs": [],
   "source": [
    "valeur = float(champs[9])#cinquième terme de la liste, donc d'indice 4\n",
    "print (\"l'altitude de la trame est :\",champs[9],champs[10],)"
   ]
  },
  {
   "cell_type": "code",
   "execution_count": null,
   "metadata": {},
   "outputs": [],
   "source": [
    "trame =\"$GPGGA,101837.094,4846.1222,N,00207.6691,E,1,04,0.0,155.6,M,47.8,M,,*4A\""
   ]
  },
  {
   "cell_type": "code",
   "execution_count": null,
   "metadata": {},
   "outputs": [],
   "source": [
    "liste = trame.split(',')\n",
    "liste\n",
    "def latitude(listeGPGGA):\n",
    "    valeur = float(liste[2])#troisième terme de la liste, donc d'indice 2\n",
    "    degre = int(valeur/100)\n",
    "    minutes = valeur%100 #conserve les chiffres à partir des dizaines vers la droite\n",
    "    if liste[3]=='N':\n",
    "        return degre + minutes/60 #latitude Nord, donc positive\n",
    "    else : \n",
    "        return -degre - minutes/60 #latitude negative\n",
    "    \n",
    "def longitude(listeGPGGA):\n",
    "    valeur = float(liste[4])#cinquième terme de la liste, donc d'indice 4\n",
    "    degre = int(valeur/100)\n",
    "    minutes = valeur%100 #conserve les chiffres à partir des dizaines vers la droite\n",
    "    if liste[5]=='E':\n",
    "        return degre + minutes/60 #longitude Est, donc positive\n",
    "    else : \n",
    "        return -degre - minutes/60 #longitude negative\n",
    "latitude = latitude(liste)\n",
    "longitude = longitude(liste)\n",
    "latitude, longitude\n"
   ]
  },
  {
   "cell_type": "code",
   "execution_count": null,
   "metadata": {},
   "outputs": [],
   "source": [
    "from geopy.geocoders import Nominatim\n",
    "geocoder = Nominatim(user_agent=\"SNT\") # placer une chaine de caractères quelconque\n",
    "localisation = geocoder.reverse([latitude,  longitude])\n",
    "localisation.address"
   ]
  },
  {
   "cell_type": "code",
   "execution_count": null,
   "metadata": {},
   "outputs": [],
   "source": [
    "import folium\n",
    "carte = folium.Map(location=[latitude, longitude], zoom_start=6) #valeur de zoom modifiable\n",
    "folium.Marker([latitude, longitude], \n",
    "              popup=\"?\", # ? à modifier avec le vrai nom\n",
    "              #icon=folium.Icon(color='red')\n",
    "             ).add_to(carte)\n",
    "\n",
    "#si l'on souhaite créer un fichier  html contenant la carte :\n",
    "carte.save('maCarte1.html')\n",
    "#si l'on souhaite afficher la carte dans le document jupyter : \n",
    "carte"
   ]
  }
 ],
 "metadata": {
  "celltoolbar": "Format de la Cellule Texte Brut",
  "kernelspec": {
   "display_name": "Python 3",
   "language": "python",
   "name": "python3"
  },
  "language_info": {
   "codemirror_mode": {
    "name": "ipython",
    "version": 3
   },
   "file_extension": ".py",
   "mimetype": "text/x-python",
   "name": "python",
   "nbconvert_exporter": "python",
   "pygments_lexer": "ipython3",
   "version": "3.7.3"
  }
 },
 "nbformat": 4,
 "nbformat_minor": 2
}
